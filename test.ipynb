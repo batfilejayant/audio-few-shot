{
 "cells": [
  {
   "cell_type": "code",
   "execution_count": 97,
   "metadata": {},
   "outputs": [],
   "source": [
    "import os\n",
    "import random\n",
    "import torch\n",
    "from torch.utils.data import Dataset, DataLoader\n",
    "from torchvision import transforms\n",
    "from PIL import Image\n",
    "import matplotlib.pyplot as plt\n",
    "from sklearn.preprocessing import label_binarize\n",
    "from tqdm import tqdm\n",
    "from sklearn.metrics import classification_report, roc_auc_score, f1_score, precision_score, recall_score, accuracy_score\n",
    "import json\n",
    "import numpy as np\n"
   ]
  },
  {
   "cell_type": "code",
   "execution_count": 98,
   "metadata": {},
   "outputs": [
    {
     "name": "stdout",
     "output_type": "stream",
     "text": [
      "Using device: cuda\n",
      "Using 16 CPU cores\n"
     ]
    }
   ],
   "source": [
    "# Enable GPU and multi-core processing\n",
    "def set_device_and_cores():\n",
    "    device = torch.device(\"cuda\" if torch.cuda.is_available() else \"cpu\")\n",
    "    torch.set_num_threads(os.cpu_count())\n",
    "    print(f\"Using device: {device}\")\n",
    "    print(f\"Using {os.cpu_count()} CPU cores\")\n",
    "    return device\n",
    "\n",
    "device = set_device_and_cores()"
   ]
  },
  {
   "cell_type": "code",
   "execution_count": 99,
   "metadata": {},
   "outputs": [],
   "source": [
    "class SpectrogramDataset(Dataset):\n",
    "    def __init__(self, root_dir, transform=None):\n",
    "        \"\"\"\n",
    "        Args:\n",
    "            root_dir (str): Root directory containing the spectrogram images.\n",
    "            transform (callable, optional): Optional transform to be applied on a sample.\n",
    "        \"\"\"\n",
    "        self.root_dir = root_dir\n",
    "        self.transform = transform\n",
    "        self.data = []\n",
    "\n",
    "        # Traverse all directories and fetch images\n",
    "        for main_dir in os.listdir(root_dir):\n",
    "            main_path = os.path.join(root_dir, main_dir)\n",
    "            if os.path.isdir(main_path):\n",
    "                for sub_dir in os.listdir(main_path):\n",
    "                    sub_path = os.path.join(main_path, sub_dir)\n",
    "                    if os.path.isdir(sub_path):\n",
    "                        for img_file in os.listdir(sub_path):\n",
    "                            if img_file.lower().endswith(('.png', '.jpg', '.jpeg')):\n",
    "                                self.data.append((os.path.join(sub_path, img_file), f\"{main_dir}_{sub_dir}\"))\n",
    "\n",
    "        # Debug: Check the number of images loaded\n",
    "        print(f\"Number of images loaded: {len(self.data)}\")\n",
    "\n",
    "        if len(self.data) == 0:\n",
    "            raise ValueError(f\"No images found in the specified directory structure: {root_dir}\")\n",
    "\n",
    "        # Map class names to indices\n",
    "        self.class_to_idx = {class_name: idx for idx, class_name in enumerate(sorted(set([d[1] for d in self.data])))}\n",
    "\n",
    "        # Debug: Check available classes\n",
    "        print(f\"Available classes: {list(self.class_to_idx.keys())}\")\n",
    "\n",
    "    def __len__(self):\n",
    "        return len(self.data)\n",
    "\n",
    "    def __getitem__(self, idx):\n",
    "        img_path, class_name = self.data[idx]\n",
    "        image = Image.open(img_path).convert(\"RGB\")\n",
    "        label = self.class_to_idx[class_name]\n",
    "\n",
    "        if self.transform:\n",
    "            image = self.transform(image)\n",
    "\n",
    "        return image, label"
   ]
  },
  {
   "cell_type": "code",
   "execution_count": 100,
   "metadata": {},
   "outputs": [],
   "source": [
    "# Function to create task-specific data loaders\n",
    "def create_task_dataloaders(root_dir, num_tasks, num_classes_per_task, transform=None, batch_size=16):\n",
    "    \"\"\"\n",
    "    Create data loaders for MAML tasks.\n",
    "\n",
    "    Args:\n",
    "        root_dir (str): Root directory containing the spectrogram images.\n",
    "        num_tasks (int): Number of tasks to create.\n",
    "        num_classes_per_task (int): Number of classes per task.\n",
    "        transform (callable, optional): Transformations for data augmentation.\n",
    "        batch_size (int): Batch size for task-specific data loaders.\n",
    "\n",
    "    Returns:\n",
    "        list: A list of task-specific DataLoader pairs [(train_loader, val_loader), ...].\n",
    "    \"\"\"\n",
    "    dataset = SpectrogramDataset(root_dir, transform=transform)\n",
    "    tasks = []\n",
    "\n",
    "    for _ in range(num_tasks):\n",
    "        # Randomly select classes for the task\n",
    "        selected_classes = random.sample(list(dataset.class_to_idx.keys()), k=num_classes_per_task)\n",
    "        task_data = [(img, label) for img, label in dataset.data if label in selected_classes]\n",
    "\n",
    "        # Create a dataset and split into train and val\n",
    "        class_to_idx = {cls: idx for idx, cls in enumerate(selected_classes)}\n",
    "        task_dataset = [(img, class_to_idx[label]) for img, label in task_data]\n",
    "        train_size = int(0.8 * len(task_dataset))\n",
    "        val_size = len(task_dataset) - train_size\n",
    "        train_dataset, val_dataset = torch.utils.data.random_split(task_dataset, [train_size, val_size])\n",
    "\n",
    "        # Create DataLoaders\n",
    "        train_loader = DataLoader(train_dataset, batch_size=batch_size, shuffle=True, num_workers=os.cpu_count())\n",
    "        val_loader = DataLoader(val_dataset, batch_size=batch_size, shuffle=False, num_workers=os.cpu_count())\n",
    "\n",
    "        tasks.append((train_loader, val_loader))\n",
    "\n",
    "    return tasks"
   ]
  },
  {
   "cell_type": "code",
   "execution_count": 101,
   "metadata": {},
   "outputs": [],
   "source": [
    "def maml_train(model, dataloaders, meta_optimizer, criterion, num_tasks, num_inner_steps, inner_lr, num_epochs=100):\n",
    "    \"\"\"\n",
    "    Train a model using MAML.\n",
    "\n",
    "    Args:\n",
    "        model (torch.nn.Module): The model to train.\n",
    "        dataloaders (list): List of task-specific DataLoader pairs [(train_loader, val_loader), ...].\n",
    "        meta_optimizer (torch.optim.Optimizer): Optimizer for the meta-parameters.\n",
    "        criterion (torch.nn.Module): Loss function.\n",
    "        num_tasks (int): Number of tasks to sample per meta-update.\n",
    "        num_inner_steps (int): Number of gradient steps in the inner loop.\n",
    "        inner_lr (float): Learning rate for the inner loop.\n",
    "        num_epochs (int): Number of meta-epochs.\n",
    "\n",
    "    Returns:\n",
    "        dict: Metrics tracked during training.\n",
    "    \"\"\"\n",
    "    metrics = {\n",
    "        'loss': [],\n",
    "        'accuracy': [],\n",
    "        'precision': [],\n",
    "        'recall': [],\n",
    "        'f1_score': [],\n",
    "        'roc_auc': []\n",
    "    }\n",
    "\n",
    "    for epoch in range(num_epochs):\n",
    "        meta_loss = 0.0\n",
    "        meta_accuracy = 0.0\n",
    "        meta_precision = 0.0\n",
    "        meta_recall = 0.0\n",
    "        meta_f1 = 0.0\n",
    "        meta_roc_auc = 0.0\n",
    "\n",
    "        for task_idx, (train_loader, val_loader) in enumerate(random.sample(dataloaders, num_tasks)):\n",
    "            task_model = torch.nn.Module(model)  # Clone the model\n",
    "            task_model.load_state_dict(model.state_dict())\n",
    "\n",
    "            # Inner loop: Task-specific adaptation\n",
    "            task_optimizer = torch.optim.SGD(task_model.parameters(), lr=inner_lr)\n",
    "            for inner_step, (inputs, labels) in enumerate(train_loader):\n",
    "                inputs, labels = inputs.to(device), labels.to(device)\n",
    "                task_optimizer.zero_grad()\n",
    "                outputs = task_model(inputs)\n",
    "                loss = criterion(outputs, labels)\n",
    "                loss.backward()\n",
    "                task_optimizer.step()\n",
    "\n",
    "            # Outer loop: Meta-optimization\n",
    "            all_preds = []\n",
    "            all_labels = []\n",
    "            for val_inputs, val_labels in val_loader:\n",
    "                val_inputs, val_labels = val_inputs.to(device), val_labels.to(device)\n",
    "                val_outputs = task_model(val_inputs)\n",
    "                loss = criterion(val_outputs, val_labels)\n",
    "                meta_loss += loss.item()\n",
    "\n",
    "                _, preds = torch.max(val_outputs, 1)\n",
    "                all_preds.extend(preds.cpu().numpy())\n",
    "                all_labels.extend(val_labels.cpu().numpy())\n",
    "\n",
    "            # Calculate metrics for this task\n",
    "            meta_accuracy += accuracy_score(all_labels, all_preds)\n",
    "            meta_precision += precision_score(all_labels, all_preds, average='weighted', zero_division=0)\n",
    "            meta_recall += recall_score(all_labels, all_preds, average='weighted', zero_division=0)\n",
    "            meta_f1 += f1_score(all_labels, all_preds, average='weighted', zero_division=0)\n",
    "            if len(set(all_labels)) > 1:\n",
    "                meta_roc_auc += roc_auc_score(\n",
    "                    label_binarize(all_labels, classes=list(range(len(set(all_labels))))),\n",
    "                    torch.nn.functional.softmax(torch.tensor(all_preds), dim=0).numpy(),\n",
    "                    average='weighted', multi_class='ovo'\n",
    "                )\n",
    "\n",
    "        # Update meta-parameters\n",
    "        meta_optimizer.zero_grad()\n",
    "        meta_loss /= len(dataloaders)\n",
    "        meta_loss.backward()\n",
    "        meta_optimizer.step()\n",
    "\n",
    "        # Store metrics\n",
    "        metrics['loss'].append(meta_loss)\n",
    "        metrics['accuracy'].append(meta_accuracy / num_tasks)\n",
    "        metrics['precision'].append(meta_precision / num_tasks)\n",
    "        metrics['recall'].append(meta_recall / num_tasks)\n",
    "        metrics['f1_score'].append(meta_f1 / num_tasks)\n",
    "        if meta_roc_auc > 0:\n",
    "            metrics['roc_auc'].append(meta_roc_auc / num_tasks)\n",
    "\n",
    "        print(f\"Epoch {epoch + 1}/{num_epochs} - Meta Loss: {meta_loss:.4f}, Accuracy: {meta_accuracy / num_tasks:.4f}, Precision: {meta_precision / num_tasks:.4f}, Recall: {meta_recall / num_tasks:.4f}, F1: {meta_f1 / num_tasks:.4f}, ROC AUC: {meta_roc_auc / num_tasks if meta_roc_auc > 0 else 0.0:.4f}\")\n",
    "\n",
    "    return metrics"
   ]
  },
  {
   "cell_type": "code",
   "execution_count": 102,
   "metadata": {},
   "outputs": [],
   "source": [
    "# Generate plots for metrics\n",
    "def plot_metrics(metrics, output_dir):\n",
    "    os.makedirs(output_dir, exist_ok=True)\n",
    "\n",
    "    for metric, values in metrics.items():\n",
    "        plt.figure()\n",
    "        plt.plot(values, label=metric)\n",
    "        plt.xlabel('Epochs')\n",
    "        plt.ylabel(metric.capitalize())\n",
    "        plt.title(f'{metric.capitalize()} Over Epochs')\n",
    "        plt.legend()\n",
    "        plt.savefig(os.path.join(output_dir, f'{metric}.png'))\n",
    "        plt.close()"
   ]
  },
  {
   "cell_type": "code",
   "execution_count": 103,
   "metadata": {},
   "outputs": [],
   "source": [
    "# Save model summary\n",
    "def save_model_summary(model, input_size, plot_dir):\n",
    "    from torchsummary import summary\n",
    "    os.makedirs(plot_dir, exist_ok=True)\n",
    "    summary_str = []\n",
    "    def print_fn(line):\n",
    "        summary_str.append(line)\n",
    "    summary(model, input_size=input_size, print_fn=print_fn, device=device)\n",
    "    summary_path = os.path.join(plot_dir, \"model_summary.txt\")\n",
    "    with open(summary_path, \"w\") as f:\n",
    "        f.write(\"\\n\".join(summary_str))\n",
    "    print(f\"Model summary saved to {summary_path}\")"
   ]
  },
  {
   "cell_type": "code",
   "execution_count": 104,
   "metadata": {},
   "outputs": [
    {
     "name": "stdout",
     "output_type": "stream",
     "text": [
      "Number of images loaded: 43529\n",
      "Available classes: ['emergency_Alarm', 'emergency_Battle cry', 'emergency_Explosion', 'emergency_Firecracker', 'emergency_Gasp', 'emergency_Gunshot', 'emergency_Machine gun', 'emergency_Motor vehicle (road)', 'emergency_Reversing beeps', 'emergency_Scrape', 'emergency_Screaming', 'emergency_Tire squeal', 'emergency_Train horn', 'emergency_Vehicle horn', 'emergency_Whip', 'normal_Bird vocalization', 'normal_Breathing', 'normal_Child speech', 'normal_Female speech', 'normal_Human voice', 'normal_Laughter', 'normal_Male speech', 'normal_Mechanisms', 'normal_Music', 'normal_Sound effect', 'normal_Surface contact', 'normal_Tap', 'normal_Walk', 'normal_Wind']\n",
      "Number of images loaded: 43529\n",
      "Available classes: ['emergency_Alarm', 'emergency_Battle cry', 'emergency_Explosion', 'emergency_Firecracker', 'emergency_Gasp', 'emergency_Gunshot', 'emergency_Machine gun', 'emergency_Motor vehicle (road)', 'emergency_Reversing beeps', 'emergency_Scrape', 'emergency_Screaming', 'emergency_Tire squeal', 'emergency_Train horn', 'emergency_Vehicle horn', 'emergency_Whip', 'normal_Bird vocalization', 'normal_Breathing', 'normal_Child speech', 'normal_Female speech', 'normal_Human voice', 'normal_Laughter', 'normal_Male speech', 'normal_Mechanisms', 'normal_Music', 'normal_Sound effect', 'normal_Surface contact', 'normal_Tap', 'normal_Walk', 'normal_Wind']\n"
     ]
    },
    {
     "name": "stderr",
     "output_type": "stream",
     "text": [
      "Epoch 1/100: 100%|██████████| 1089/1089 [00:47<00:00, 22.71it/s]\n"
     ]
    },
    {
     "name": "stdout",
     "output_type": "stream",
     "text": [
      "Epoch 1/100 - Loss: 2.9639, Accuracy: 0.1380, Precision: 0.1289, Recall: 0.1380, F1 Score: 0.1260, ROC AUC: 0.7346\n"
     ]
    },
    {
     "name": "stderr",
     "output_type": "stream",
     "text": [
      "Epoch 2/100: 100%|██████████| 1089/1089 [00:35<00:00, 30.97it/s]\n"
     ]
    },
    {
     "name": "stdout",
     "output_type": "stream",
     "text": [
      "Epoch 2/100 - Loss: 2.5951, Accuracy: 0.2229, Precision: 0.2078, Recall: 0.2229, F1 Score: 0.2099, ROC AUC: 0.7812\n"
     ]
    },
    {
     "name": "stderr",
     "output_type": "stream",
     "text": [
      "Epoch 3/100: 100%|██████████| 1089/1089 [00:33<00:00, 32.26it/s]\n"
     ]
    },
    {
     "name": "stdout",
     "output_type": "stream",
     "text": [
      "Epoch 3/100 - Loss: 2.4384, Accuracy: 0.2608, Precision: 0.2471, Recall: 0.2608, F1 Score: 0.2490, ROC AUC: 0.8050\n"
     ]
    },
    {
     "name": "stderr",
     "output_type": "stream",
     "text": [
      "Epoch 4/100: 100%|██████████| 1089/1089 [00:33<00:00, 32.76it/s]\n"
     ]
    },
    {
     "name": "stdout",
     "output_type": "stream",
     "text": [
      "Epoch 4/100 - Loss: 2.2940, Accuracy: 0.2996, Precision: 0.2896, Recall: 0.2996, F1 Score: 0.2899, ROC AUC: 0.8225\n"
     ]
    },
    {
     "name": "stderr",
     "output_type": "stream",
     "text": [
      "Epoch 5/100: 100%|██████████| 1089/1089 [00:47<00:00, 23.10it/s]\n"
     ]
    },
    {
     "name": "stdout",
     "output_type": "stream",
     "text": [
      "Epoch 5/100 - Loss: 2.1270, Accuracy: 0.3486, Precision: 0.3416, Recall: 0.3486, F1 Score: 0.3403, ROC AUC: 0.8375\n"
     ]
    },
    {
     "name": "stderr",
     "output_type": "stream",
     "text": [
      "Epoch 6/100: 100%|██████████| 1089/1089 [00:34<00:00, 31.90it/s]\n"
     ]
    },
    {
     "name": "stdout",
     "output_type": "stream",
     "text": [
      "Epoch 6/100 - Loss: 1.9473, Accuracy: 0.4039, Precision: 0.3979, Recall: 0.4039, F1 Score: 0.3960, ROC AUC: 0.8511\n"
     ]
    },
    {
     "name": "stderr",
     "output_type": "stream",
     "text": [
      "Epoch 7/100: 100%|██████████| 1089/1089 [00:47<00:00, 22.71it/s]\n"
     ]
    },
    {
     "name": "stdout",
     "output_type": "stream",
     "text": [
      "Epoch 7/100 - Loss: 1.7569, Accuracy: 0.4611, Precision: 0.4569, Recall: 0.4611, F1 Score: 0.4553, ROC AUC: 0.8638\n"
     ]
    },
    {
     "name": "stderr",
     "output_type": "stream",
     "text": [
      "Epoch 8/100: 100%|██████████| 1089/1089 [00:34<00:00, 31.74it/s]\n"
     ]
    },
    {
     "name": "stdout",
     "output_type": "stream",
     "text": [
      "Epoch 8/100 - Loss: 1.5636, Accuracy: 0.5195, Precision: 0.5166, Recall: 0.5195, F1 Score: 0.5147, ROC AUC: 0.8757\n"
     ]
    },
    {
     "name": "stderr",
     "output_type": "stream",
     "text": [
      "Epoch 9/100: 100%|██████████| 1089/1089 [00:48<00:00, 22.28it/s]\n"
     ]
    },
    {
     "name": "stdout",
     "output_type": "stream",
     "text": [
      "Epoch 9/100 - Loss: 1.3776, Accuracy: 0.5737, Precision: 0.5730, Recall: 0.5737, F1 Score: 0.5704, ROC AUC: 0.8869\n"
     ]
    },
    {
     "name": "stderr",
     "output_type": "stream",
     "text": [
      "Epoch 10/100: 100%|██████████| 1089/1089 [00:35<00:00, 30.88it/s]\n"
     ]
    },
    {
     "name": "stdout",
     "output_type": "stream",
     "text": [
      "Epoch 10/100 - Loss: 1.1989, Accuracy: 0.6294, Precision: 0.6306, Recall: 0.6294, F1 Score: 0.6274, ROC AUC: 0.8972\n"
     ]
    },
    {
     "name": "stderr",
     "output_type": "stream",
     "text": [
      "Epoch 11/100: 100%|██████████| 1089/1089 [00:47<00:00, 22.76it/s]\n"
     ]
    },
    {
     "name": "stdout",
     "output_type": "stream",
     "text": [
      "Epoch 11/100 - Loss: 1.0339, Accuracy: 0.6807, Precision: 0.6827, Recall: 0.6807, F1 Score: 0.6796, ROC AUC: 0.9067\n"
     ]
    },
    {
     "name": "stderr",
     "output_type": "stream",
     "text": [
      "Epoch 12/100: 100%|██████████| 1089/1089 [00:35<00:00, 30.94it/s]\n"
     ]
    },
    {
     "name": "stdout",
     "output_type": "stream",
     "text": [
      "Epoch 12/100 - Loss: 0.8867, Accuracy: 0.7278, Precision: 0.7326, Recall: 0.7278, F1 Score: 0.7280, ROC AUC: 0.9153\n"
     ]
    },
    {
     "name": "stderr",
     "output_type": "stream",
     "text": [
      "Epoch 13/100: 100%|██████████| 1089/1089 [00:47<00:00, 22.97it/s]\n"
     ]
    },
    {
     "name": "stdout",
     "output_type": "stream",
     "text": [
      "Epoch 13/100 - Loss: 0.7545, Accuracy: 0.7690, Precision: 0.7745, Recall: 0.7690, F1 Score: 0.7701, ROC AUC: 0.9231\n"
     ]
    },
    {
     "name": "stderr",
     "output_type": "stream",
     "text": [
      "Epoch 14/100: 100%|██████████| 1089/1089 [00:35<00:00, 30.36it/s]\n"
     ]
    },
    {
     "name": "stdout",
     "output_type": "stream",
     "text": [
      "Epoch 14/100 - Loss: 0.6515, Accuracy: 0.8012, Precision: 0.8084, Recall: 0.8012, F1 Score: 0.8030, ROC AUC: 0.9301\n"
     ]
    },
    {
     "name": "stderr",
     "output_type": "stream",
     "text": [
      "Epoch 15/100: 100%|██████████| 1089/1089 [00:47<00:00, 22.84it/s]\n"
     ]
    },
    {
     "name": "stdout",
     "output_type": "stream",
     "text": [
      "Epoch 15/100 - Loss: 0.5670, Accuracy: 0.8266, Precision: 0.8402, Recall: 0.8266, F1 Score: 0.8306, ROC AUC: 0.9363\n"
     ]
    },
    {
     "name": "stderr",
     "output_type": "stream",
     "text": [
      "Epoch 16/100: 100%|██████████| 1089/1089 [00:35<00:00, 30.35it/s]\n"
     ]
    },
    {
     "name": "stdout",
     "output_type": "stream",
     "text": [
      "Epoch 16/100 - Loss: 0.4929, Accuracy: 0.8536, Precision: 0.8724, Recall: 0.8536, F1 Score: 0.8596, ROC AUC: 0.9418\n"
     ]
    },
    {
     "name": "stderr",
     "output_type": "stream",
     "text": [
      "Epoch 17/100: 100%|██████████| 1089/1089 [00:47<00:00, 22.88it/s]\n"
     ]
    },
    {
     "name": "stdout",
     "output_type": "stream",
     "text": [
      "Epoch 17/100 - Loss: 0.4470, Accuracy: 0.8656, Precision: 0.8811, Recall: 0.8656, F1 Score: 0.8703, ROC AUC: 0.9466\n"
     ]
    },
    {
     "name": "stderr",
     "output_type": "stream",
     "text": [
      "Epoch 18/100: 100%|██████████| 1089/1089 [00:36<00:00, 29.95it/s]\n"
     ]
    },
    {
     "name": "stdout",
     "output_type": "stream",
     "text": [
      "Epoch 18/100 - Loss: 0.3977, Accuracy: 0.8820, Precision: 0.9018, Recall: 0.8820, F1 Score: 0.8883, ROC AUC: 0.9509\n"
     ]
    },
    {
     "name": "stderr",
     "output_type": "stream",
     "text": [
      "Epoch 19/100: 100%|██████████| 1089/1089 [00:47<00:00, 23.04it/s]\n"
     ]
    },
    {
     "name": "stdout",
     "output_type": "stream",
     "text": [
      "Epoch 19/100 - Loss: 0.3839, Accuracy: 0.8853, Precision: 0.9066, Recall: 0.8853, F1 Score: 0.8920, ROC AUC: 0.9547\n"
     ]
    },
    {
     "name": "stderr",
     "output_type": "stream",
     "text": [
      "Epoch 20/100: 100%|██████████| 1089/1089 [00:37<00:00, 28.94it/s]\n"
     ]
    },
    {
     "name": "stdout",
     "output_type": "stream",
     "text": [
      "Epoch 20/100 - Loss: 0.3594, Accuracy: 0.8923, Precision: 0.9138, Recall: 0.8923, F1 Score: 0.8992, ROC AUC: 0.9580\n"
     ]
    },
    {
     "name": "stderr",
     "output_type": "stream",
     "text": [
      "Epoch 21/100: 100%|██████████| 1089/1089 [00:47<00:00, 22.87it/s]\n"
     ]
    },
    {
     "name": "stdout",
     "output_type": "stream",
     "text": [
      "Epoch 21/100 - Loss: 0.3326, Accuracy: 0.9018, Precision: 0.9250, Recall: 0.9018, F1 Score: 0.9093, ROC AUC: 0.9609\n"
     ]
    },
    {
     "name": "stderr",
     "output_type": "stream",
     "text": [
      "Epoch 22/100: 100%|██████████| 1089/1089 [00:49<00:00, 21.83it/s]\n"
     ]
    },
    {
     "name": "stdout",
     "output_type": "stream",
     "text": [
      "Epoch 22/100 - Loss: 0.3299, Accuracy: 0.9018, Precision: 0.9213, Recall: 0.9018, F1 Score: 0.9080, ROC AUC: 0.9635\n"
     ]
    },
    {
     "name": "stderr",
     "output_type": "stream",
     "text": [
      "Epoch 23/100: 100%|██████████| 1089/1089 [00:39<00:00, 27.30it/s]\n"
     ]
    },
    {
     "name": "stdout",
     "output_type": "stream",
     "text": [
      "Epoch 23/100 - Loss: 0.3263, Accuracy: 0.9033, Precision: 0.9164, Recall: 0.9033, F1 Score: 0.9072, ROC AUC: 0.9658\n"
     ]
    },
    {
     "name": "stderr",
     "output_type": "stream",
     "text": [
      "Epoch 24/100: 100%|██████████| 1089/1089 [00:48<00:00, 22.63it/s]\n"
     ]
    },
    {
     "name": "stdout",
     "output_type": "stream",
     "text": [
      "Epoch 24/100 - Loss: 0.2930, Accuracy: 0.9146, Precision: 0.9359, Recall: 0.9146, F1 Score: 0.9212, ROC AUC: 0.9679\n"
     ]
    },
    {
     "name": "stderr",
     "output_type": "stream",
     "text": [
      "Epoch 25/100: 100%|██████████| 1089/1089 [00:48<00:00, 22.69it/s]\n"
     ]
    },
    {
     "name": "stdout",
     "output_type": "stream",
     "text": [
      "Epoch 25/100 - Loss: 0.2993, Accuracy: 0.9127, Precision: 0.9263, Recall: 0.9127, F1 Score: 0.9167, ROC AUC: 0.9698\n"
     ]
    },
    {
     "name": "stderr",
     "output_type": "stream",
     "text": [
      "Epoch 26/100: 100%|██████████| 1089/1089 [00:48<00:00, 22.44it/s]\n"
     ]
    },
    {
     "name": "stdout",
     "output_type": "stream",
     "text": [
      "Epoch 26/100 - Loss: 0.2960, Accuracy: 0.9129, Precision: 0.9298, Recall: 0.9129, F1 Score: 0.9182, ROC AUC: 0.9715\n"
     ]
    },
    {
     "name": "stderr",
     "output_type": "stream",
     "text": [
      "Epoch 27/100: 100%|██████████| 1089/1089 [00:48<00:00, 22.24it/s]\n"
     ]
    },
    {
     "name": "stdout",
     "output_type": "stream",
     "text": [
      "Epoch 27/100 - Loss: 0.2835, Accuracy: 0.9169, Precision: 0.9349, Recall: 0.9169, F1 Score: 0.9225, ROC AUC: 0.9730\n"
     ]
    },
    {
     "name": "stderr",
     "output_type": "stream",
     "text": [
      "Epoch 28/100: 100%|██████████| 1089/1089 [00:49<00:00, 22.16it/s]\n"
     ]
    },
    {
     "name": "stdout",
     "output_type": "stream",
     "text": [
      "Epoch 28/100 - Loss: 0.2760, Accuracy: 0.9196, Precision: 0.9379, Recall: 0.9196, F1 Score: 0.9252, ROC AUC: 0.9744\n"
     ]
    },
    {
     "name": "stderr",
     "output_type": "stream",
     "text": [
      "Epoch 29/100: 100%|██████████| 1089/1089 [00:50<00:00, 21.78it/s]\n"
     ]
    },
    {
     "name": "stdout",
     "output_type": "stream",
     "text": [
      "Epoch 29/100 - Loss: 0.2782, Accuracy: 0.9170, Precision: 0.9358, Recall: 0.9170, F1 Score: 0.9228, ROC AUC: 0.9756\n"
     ]
    },
    {
     "name": "stderr",
     "output_type": "stream",
     "text": [
      "Epoch 30/100: 100%|██████████| 1089/1089 [00:50<00:00, 21.62it/s]\n"
     ]
    },
    {
     "name": "stdout",
     "output_type": "stream",
     "text": [
      "Epoch 30/100 - Loss: 0.2730, Accuracy: 0.9191, Precision: 0.9382, Recall: 0.9191, F1 Score: 0.9251, ROC AUC: 0.9768\n"
     ]
    },
    {
     "name": "stderr",
     "output_type": "stream",
     "text": [
      "Epoch 31/100: 100%|██████████| 1089/1089 [00:50<00:00, 21.53it/s]\n"
     ]
    },
    {
     "name": "stdout",
     "output_type": "stream",
     "text": [
      "Epoch 31/100 - Loss: 0.2716, Accuracy: 0.9206, Precision: 0.9390, Recall: 0.9206, F1 Score: 0.9263, ROC AUC: 0.9779\n"
     ]
    },
    {
     "name": "stderr",
     "output_type": "stream",
     "text": [
      "Epoch 32/100: 100%|██████████| 1089/1089 [00:51<00:00, 21.22it/s]\n"
     ]
    },
    {
     "name": "stdout",
     "output_type": "stream",
     "text": [
      "Epoch 32/100 - Loss: 0.2655, Accuracy: 0.9221, Precision: 0.9415, Recall: 0.9221, F1 Score: 0.9282, ROC AUC: 0.9788\n"
     ]
    },
    {
     "name": "stderr",
     "output_type": "stream",
     "text": [
      "Epoch 33/100: 100%|██████████| 1089/1089 [00:51<00:00, 20.98it/s]\n"
     ]
    },
    {
     "name": "stdout",
     "output_type": "stream",
     "text": [
      "Epoch 33/100 - Loss: 0.2679, Accuracy: 0.9217, Precision: 0.9431, Recall: 0.9217, F1 Score: 0.9284, ROC AUC: 0.9797\n"
     ]
    },
    {
     "name": "stderr",
     "output_type": "stream",
     "text": [
      "Epoch 34/100: 100%|██████████| 1089/1089 [00:52<00:00, 20.59it/s]\n"
     ]
    },
    {
     "name": "stdout",
     "output_type": "stream",
     "text": [
      "Epoch 34/100 - Loss: 0.2582, Accuracy: 0.9247, Precision: 0.9435, Recall: 0.9247, F1 Score: 0.9305, ROC AUC: 0.9806\n"
     ]
    },
    {
     "name": "stderr",
     "output_type": "stream",
     "text": [
      "Epoch 35/100: 100%|██████████| 1089/1089 [00:53<00:00, 20.21it/s]\n"
     ]
    },
    {
     "name": "stdout",
     "output_type": "stream",
     "text": [
      "Epoch 35/100 - Loss: 0.2569, Accuracy: 0.9244, Precision: 0.9443, Recall: 0.9244, F1 Score: 0.9307, ROC AUC: 0.9813\n"
     ]
    },
    {
     "name": "stderr",
     "output_type": "stream",
     "text": [
      "Epoch 36/100: 100%|██████████| 1089/1089 [00:54<00:00, 19.80it/s]\n"
     ]
    },
    {
     "name": "stdout",
     "output_type": "stream",
     "text": [
      "Epoch 36/100 - Loss: 0.2486, Accuracy: 0.9283, Precision: 0.9488, Recall: 0.9283, F1 Score: 0.9347, ROC AUC: 0.9820\n"
     ]
    },
    {
     "name": "stderr",
     "output_type": "stream",
     "text": [
      "Epoch 37/100: 100%|██████████| 1089/1089 [00:55<00:00, 19.71it/s]\n"
     ]
    },
    {
     "name": "stdout",
     "output_type": "stream",
     "text": [
      "Epoch 37/100 - Loss: 0.2545, Accuracy: 0.9255, Precision: 0.9396, Recall: 0.9255, F1 Score: 0.9296, ROC AUC: 0.9827\n"
     ]
    },
    {
     "name": "stderr",
     "output_type": "stream",
     "text": [
      "Epoch 38/100: 100%|██████████| 1089/1089 [00:55<00:00, 19.57it/s]\n"
     ]
    },
    {
     "name": "stdout",
     "output_type": "stream",
     "text": [
      "Epoch 38/100 - Loss: 0.2415, Accuracy: 0.9313, Precision: 0.9473, Recall: 0.9313, F1 Score: 0.9359, ROC AUC: 0.9833\n"
     ]
    },
    {
     "name": "stderr",
     "output_type": "stream",
     "text": [
      "Epoch 39/100: 100%|██████████| 1089/1089 [00:55<00:00, 19.49it/s]\n"
     ]
    },
    {
     "name": "stdout",
     "output_type": "stream",
     "text": [
      "Epoch 39/100 - Loss: 0.2548, Accuracy: 0.9263, Precision: 0.9479, Recall: 0.9263, F1 Score: 0.9331, ROC AUC: 0.9839\n"
     ]
    },
    {
     "name": "stderr",
     "output_type": "stream",
     "text": [
      "Epoch 40/100: 100%|██████████| 1089/1089 [00:56<00:00, 19.30it/s]\n"
     ]
    },
    {
     "name": "stdout",
     "output_type": "stream",
     "text": [
      "Epoch 40/100 - Loss: 0.2495, Accuracy: 0.9284, Precision: 0.9495, Recall: 0.9284, F1 Score: 0.9350, ROC AUC: 0.9844\n"
     ]
    },
    {
     "name": "stderr",
     "output_type": "stream",
     "text": [
      "Epoch 41/100: 100%|██████████| 1089/1089 [00:56<00:00, 19.32it/s]\n"
     ]
    },
    {
     "name": "stdout",
     "output_type": "stream",
     "text": [
      "Epoch 41/100 - Loss: 0.2434, Accuracy: 0.9287, Precision: 0.9494, Recall: 0.9287, F1 Score: 0.9352, ROC AUC: 0.9849\n"
     ]
    },
    {
     "name": "stderr",
     "output_type": "stream",
     "text": [
      "Epoch 42/100: 100%|██████████| 1089/1089 [00:56<00:00, 19.28it/s]\n"
     ]
    },
    {
     "name": "stdout",
     "output_type": "stream",
     "text": [
      "Epoch 42/100 - Loss: 0.2452, Accuracy: 0.9287, Precision: 0.9487, Recall: 0.9287, F1 Score: 0.9350, ROC AUC: 0.9854\n"
     ]
    },
    {
     "name": "stderr",
     "output_type": "stream",
     "text": [
      "Epoch 43/100: 100%|██████████| 1089/1089 [00:57<00:00, 19.03it/s]\n"
     ]
    },
    {
     "name": "stdout",
     "output_type": "stream",
     "text": [
      "Epoch 43/100 - Loss: 0.2410, Accuracy: 0.9307, Precision: 0.9554, Recall: 0.9307, F1 Score: 0.9386, ROC AUC: 0.9859\n"
     ]
    },
    {
     "name": "stderr",
     "output_type": "stream",
     "text": [
      "Epoch 44/100: 100%|██████████| 1089/1089 [00:57<00:00, 18.91it/s]\n"
     ]
    },
    {
     "name": "stdout",
     "output_type": "stream",
     "text": [
      "Epoch 44/100 - Loss: 0.2434, Accuracy: 0.9298, Precision: 0.9511, Recall: 0.9298, F1 Score: 0.9365, ROC AUC: 0.9863\n"
     ]
    },
    {
     "name": "stderr",
     "output_type": "stream",
     "text": [
      "Epoch 45/100: 100%|██████████| 1089/1089 [00:58<00:00, 18.70it/s]\n"
     ]
    },
    {
     "name": "stdout",
     "output_type": "stream",
     "text": [
      "Epoch 45/100 - Loss: 0.2343, Accuracy: 0.9329, Precision: 0.9543, Recall: 0.9329, F1 Score: 0.9397, ROC AUC: 0.9867\n"
     ]
    },
    {
     "name": "stderr",
     "output_type": "stream",
     "text": [
      "Epoch 46/100: 100%|██████████| 1089/1089 [00:58<00:00, 18.47it/s]\n"
     ]
    },
    {
     "name": "stdout",
     "output_type": "stream",
     "text": [
      "Epoch 46/100 - Loss: 0.2390, Accuracy: 0.9309, Precision: 0.9514, Recall: 0.9309, F1 Score: 0.9373, ROC AUC: 0.9871\n"
     ]
    },
    {
     "name": "stderr",
     "output_type": "stream",
     "text": [
      "Epoch 47/100: 100%|██████████| 1089/1089 [00:59<00:00, 18.16it/s]\n"
     ]
    },
    {
     "name": "stdout",
     "output_type": "stream",
     "text": [
      "Epoch 47/100 - Loss: 0.2388, Accuracy: 0.9304, Precision: 0.9493, Recall: 0.9304, F1 Score: 0.9363, ROC AUC: 0.9874\n"
     ]
    },
    {
     "name": "stderr",
     "output_type": "stream",
     "text": [
      "Epoch 48/100: 100%|██████████| 1089/1089 [01:01<00:00, 17.81it/s]\n"
     ]
    },
    {
     "name": "stdout",
     "output_type": "stream",
     "text": [
      "Epoch 48/100 - Loss: 0.2299, Accuracy: 0.9341, Precision: 0.9550, Recall: 0.9341, F1 Score: 0.9408, ROC AUC: 0.9877\n"
     ]
    },
    {
     "name": "stderr",
     "output_type": "stream",
     "text": [
      "Epoch 49/100: 100%|██████████| 1089/1089 [01:01<00:00, 17.64it/s]\n"
     ]
    },
    {
     "name": "stdout",
     "output_type": "stream",
     "text": [
      "Epoch 49/100 - Loss: 0.2407, Accuracy: 0.9299, Precision: 0.9531, Recall: 0.9299, F1 Score: 0.9373, ROC AUC: 0.9881\n"
     ]
    },
    {
     "name": "stderr",
     "output_type": "stream",
     "text": [
      "Epoch 50/100: 100%|██████████| 1089/1089 [01:02<00:00, 17.32it/s]\n"
     ]
    },
    {
     "name": "stdout",
     "output_type": "stream",
     "text": [
      "Epoch 50/100 - Loss: 0.2386, Accuracy: 0.9317, Precision: 0.9515, Recall: 0.9317, F1 Score: 0.9379, ROC AUC: 0.9884\n"
     ]
    },
    {
     "name": "stderr",
     "output_type": "stream",
     "text": [
      "Epoch 51/100: 100%|██████████| 1089/1089 [01:03<00:00, 17.10it/s]\n"
     ]
    },
    {
     "name": "stdout",
     "output_type": "stream",
     "text": [
      "Epoch 51/100 - Loss: 0.2202, Accuracy: 0.9367, Precision: 0.9520, Recall: 0.9367, F1 Score: 0.9413, ROC AUC: 0.9886\n"
     ]
    },
    {
     "name": "stderr",
     "output_type": "stream",
     "text": [
      "Epoch 52/100: 100%|██████████| 1089/1089 [01:04<00:00, 16.84it/s]\n"
     ]
    },
    {
     "name": "stdout",
     "output_type": "stream",
     "text": [
      "Epoch 52/100 - Loss: 0.2320, Accuracy: 0.9342, Precision: 0.9541, Recall: 0.9342, F1 Score: 0.9404, ROC AUC: 0.9889\n"
     ]
    },
    {
     "name": "stderr",
     "output_type": "stream",
     "text": [
      "Epoch 53/100: 100%|██████████| 1089/1089 [01:05<00:00, 16.63it/s]\n"
     ]
    },
    {
     "name": "stdout",
     "output_type": "stream",
     "text": [
      "Epoch 53/100 - Loss: 0.2194, Accuracy: 0.9368, Precision: 0.9608, Recall: 0.9368, F1 Score: 0.9445, ROC AUC: 0.9892\n"
     ]
    },
    {
     "name": "stderr",
     "output_type": "stream",
     "text": [
      "Epoch 54/100: 100%|██████████| 1089/1089 [01:06<00:00, 16.37it/s]\n"
     ]
    },
    {
     "name": "stdout",
     "output_type": "stream",
     "text": [
      "Epoch 54/100 - Loss: 0.2440, Accuracy: 0.9305, Precision: 0.9514, Recall: 0.9305, F1 Score: 0.9371, ROC AUC: 0.9894\n"
     ]
    },
    {
     "name": "stderr",
     "output_type": "stream",
     "text": [
      "Epoch 55/100: 100%|██████████| 1089/1089 [01:07<00:00, 16.16it/s]\n"
     ]
    },
    {
     "name": "stdout",
     "output_type": "stream",
     "text": [
      "Epoch 55/100 - Loss: 0.2241, Accuracy: 0.9360, Precision: 0.9553, Recall: 0.9360, F1 Score: 0.9421, ROC AUC: 0.9897\n"
     ]
    },
    {
     "name": "stderr",
     "output_type": "stream",
     "text": [
      "Epoch 56/100: 100%|██████████| 1089/1089 [01:08<00:00, 15.93it/s]\n"
     ]
    },
    {
     "name": "stdout",
     "output_type": "stream",
     "text": [
      "Epoch 56/100 - Loss: 0.2201, Accuracy: 0.9361, Precision: 0.9586, Recall: 0.9361, F1 Score: 0.9433, ROC AUC: 0.9899\n"
     ]
    },
    {
     "name": "stderr",
     "output_type": "stream",
     "text": [
      "Epoch 57/100: 100%|██████████| 1089/1089 [01:09<00:00, 15.75it/s]\n"
     ]
    },
    {
     "name": "stdout",
     "output_type": "stream",
     "text": [
      "Epoch 57/100 - Loss: 0.2200, Accuracy: 0.9370, Precision: 0.9581, Recall: 0.9370, F1 Score: 0.9437, ROC AUC: 0.9901\n"
     ]
    },
    {
     "name": "stderr",
     "output_type": "stream",
     "text": [
      "Epoch 58/100: 100%|██████████| 1089/1089 [01:10<00:00, 15.49it/s]\n"
     ]
    },
    {
     "name": "stdout",
     "output_type": "stream",
     "text": [
      "Epoch 58/100 - Loss: 0.2244, Accuracy: 0.9347, Precision: 0.9558, Recall: 0.9347, F1 Score: 0.9414, ROC AUC: 0.9903\n"
     ]
    },
    {
     "name": "stderr",
     "output_type": "stream",
     "text": [
      "Epoch 59/100: 100%|██████████| 1089/1089 [01:11<00:00, 15.17it/s]\n"
     ]
    },
    {
     "name": "stdout",
     "output_type": "stream",
     "text": [
      "Epoch 59/100 - Loss: 0.2184, Accuracy: 0.9375, Precision: 0.9599, Recall: 0.9375, F1 Score: 0.9446, ROC AUC: 0.9905\n"
     ]
    },
    {
     "name": "stderr",
     "output_type": "stream",
     "text": [
      "Epoch 60/100: 100%|██████████| 1089/1089 [01:12<00:00, 15.06it/s]\n"
     ]
    },
    {
     "name": "stdout",
     "output_type": "stream",
     "text": [
      "Epoch 60/100 - Loss: 0.2260, Accuracy: 0.9344, Precision: 0.9522, Recall: 0.9344, F1 Score: 0.9399, ROC AUC: 0.9907\n"
     ]
    },
    {
     "name": "stderr",
     "output_type": "stream",
     "text": [
      "Epoch 61/100: 100%|██████████| 1089/1089 [01:13<00:00, 14.77it/s]\n"
     ]
    },
    {
     "name": "stdout",
     "output_type": "stream",
     "text": [
      "Epoch 61/100 - Loss: 0.2261, Accuracy: 0.9345, Precision: 0.9504, Recall: 0.9345, F1 Score: 0.9393, ROC AUC: 0.9909\n"
     ]
    },
    {
     "name": "stderr",
     "output_type": "stream",
     "text": [
      "Epoch 62/100: 100%|██████████| 1089/1089 [01:14<00:00, 14.54it/s]\n"
     ]
    },
    {
     "name": "stdout",
     "output_type": "stream",
     "text": [
      "Epoch 62/100 - Loss: 0.2178, Accuracy: 0.9379, Precision: 0.9608, Recall: 0.9379, F1 Score: 0.9452, ROC AUC: 0.9911\n"
     ]
    },
    {
     "name": "stderr",
     "output_type": "stream",
     "text": [
      "Epoch 63/100: 100%|██████████| 1089/1089 [01:15<00:00, 14.38it/s]\n"
     ]
    },
    {
     "name": "stdout",
     "output_type": "stream",
     "text": [
      "Epoch 63/100 - Loss: 0.2168, Accuracy: 0.9372, Precision: 0.9599, Recall: 0.9372, F1 Score: 0.9444, ROC AUC: 0.9912\n"
     ]
    },
    {
     "name": "stderr",
     "output_type": "stream",
     "text": [
      "Epoch 64/100: 100%|██████████| 1089/1089 [01:16<00:00, 14.25it/s]\n"
     ]
    },
    {
     "name": "stdout",
     "output_type": "stream",
     "text": [
      "Epoch 64/100 - Loss: 0.2065, Accuracy: 0.9396, Precision: 0.9593, Recall: 0.9396, F1 Score: 0.9458, ROC AUC: 0.9914\n"
     ]
    },
    {
     "name": "stderr",
     "output_type": "stream",
     "text": [
      "Epoch 65/100: 100%|██████████| 1089/1089 [01:19<00:00, 13.68it/s]\n"
     ]
    },
    {
     "name": "stdout",
     "output_type": "stream",
     "text": [
      "Epoch 65/100 - Loss: 0.2229, Accuracy: 0.9360, Precision: 0.9582, Recall: 0.9360, F1 Score: 0.9431, ROC AUC: 0.9915\n"
     ]
    },
    {
     "name": "stderr",
     "output_type": "stream",
     "text": [
      "Epoch 66/100: 100%|██████████| 1089/1089 [01:17<00:00, 14.13it/s]\n"
     ]
    },
    {
     "name": "stdout",
     "output_type": "stream",
     "text": [
      "Epoch 66/100 - Loss: 0.2240, Accuracy: 0.9353, Precision: 0.9579, Recall: 0.9353, F1 Score: 0.9425, ROC AUC: 0.9917\n"
     ]
    },
    {
     "name": "stderr",
     "output_type": "stream",
     "text": [
      "Epoch 67/100: 100%|██████████| 1089/1089 [01:18<00:00, 13.89it/s]\n"
     ]
    },
    {
     "name": "stdout",
     "output_type": "stream",
     "text": [
      "Epoch 67/100 - Loss: 0.2212, Accuracy: 0.9373, Precision: 0.9559, Recall: 0.9373, F1 Score: 0.9431, ROC AUC: 0.9918\n"
     ]
    },
    {
     "name": "stderr",
     "output_type": "stream",
     "text": [
      "Epoch 68/100: 100%|██████████| 1089/1089 [01:19<00:00, 13.68it/s]\n"
     ]
    },
    {
     "name": "stdout",
     "output_type": "stream",
     "text": [
      "Epoch 68/100 - Loss: 0.2128, Accuracy: 0.9383, Precision: 0.9598, Recall: 0.9383, F1 Score: 0.9451, ROC AUC: 0.9920\n"
     ]
    },
    {
     "name": "stderr",
     "output_type": "stream",
     "text": [
      "Epoch 69/100: 100%|██████████| 1089/1089 [01:20<00:00, 13.54it/s]\n"
     ]
    },
    {
     "name": "stdout",
     "output_type": "stream",
     "text": [
      "Epoch 69/100 - Loss: 0.2175, Accuracy: 0.9369, Precision: 0.9572, Recall: 0.9369, F1 Score: 0.9433, ROC AUC: 0.9921\n"
     ]
    },
    {
     "name": "stderr",
     "output_type": "stream",
     "text": [
      "Epoch 70/100: 100%|██████████| 1089/1089 [01:22<00:00, 13.14it/s]\n"
     ]
    },
    {
     "name": "stdout",
     "output_type": "stream",
     "text": [
      "Epoch 70/100 - Loss: 0.2082, Accuracy: 0.9394, Precision: 0.9630, Recall: 0.9394, F1 Score: 0.9470, ROC AUC: 0.9922\n"
     ]
    },
    {
     "name": "stderr",
     "output_type": "stream",
     "text": [
      "Epoch 71/100: 100%|██████████| 1089/1089 [01:22<00:00, 13.17it/s]\n"
     ]
    },
    {
     "name": "stdout",
     "output_type": "stream",
     "text": [
      "Epoch 71/100 - Loss: 0.2165, Accuracy: 0.9367, Precision: 0.9557, Recall: 0.9367, F1 Score: 0.9427, ROC AUC: 0.9924\n"
     ]
    },
    {
     "name": "stderr",
     "output_type": "stream",
     "text": [
      "Epoch 72/100: 100%|██████████| 1089/1089 [01:24<00:00, 12.96it/s]\n"
     ]
    },
    {
     "name": "stdout",
     "output_type": "stream",
     "text": [
      "Epoch 72/100 - Loss: 0.2146, Accuracy: 0.9372, Precision: 0.9588, Recall: 0.9372, F1 Score: 0.9440, ROC AUC: 0.9925\n"
     ]
    },
    {
     "name": "stderr",
     "output_type": "stream",
     "text": [
      "Epoch 73/100: 100%|██████████| 1089/1089 [01:44<00:00, 10.41it/s]\n"
     ]
    },
    {
     "name": "stdout",
     "output_type": "stream",
     "text": [
      "Epoch 73/100 - Loss: 0.2164, Accuracy: 0.9373, Precision: 0.9571, Recall: 0.9373, F1 Score: 0.9435, ROC AUC: 0.9926\n"
     ]
    },
    {
     "name": "stderr",
     "output_type": "stream",
     "text": [
      "Epoch 74/100: 100%|██████████| 1089/1089 [01:50<00:00,  9.85it/s]\n"
     ]
    },
    {
     "name": "stdout",
     "output_type": "stream",
     "text": [
      "Epoch 74/100 - Loss: 0.2094, Accuracy: 0.9397, Precision: 0.9636, Recall: 0.9397, F1 Score: 0.9473, ROC AUC: 0.9927\n",
      "Early stopping triggered.\n"
     ]
    },
    {
     "ename": "ValueError",
     "evalue": "Found input variables with inconsistent numbers of samples: [2576976, 34824]",
     "output_type": "error",
     "traceback": [
      "\u001b[0;31m---------------------------------------------------------------------------\u001b[0m",
      "\u001b[0;31mValueError\u001b[0m                                Traceback (most recent call last)",
      "Cell \u001b[0;32mIn[104], line 44\u001b[0m\n\u001b[1;32m     41\u001b[0m optimizer \u001b[38;5;241m=\u001b[39m torch\u001b[38;5;241m.\u001b[39moptim\u001b[38;5;241m.\u001b[39mAdam(model\u001b[38;5;241m.\u001b[39mparameters(), lr\u001b[38;5;241m=\u001b[39m\u001b[38;5;241m1e-3\u001b[39m)\n\u001b[1;32m     43\u001b[0m \u001b[38;5;66;03m# Train the model\u001b[39;00m\n\u001b[0;32m---> 44\u001b[0m metrics, report \u001b[38;5;241m=\u001b[39m \u001b[43mtrain_model_with_metrics\u001b[49m\u001b[43m(\u001b[49m\u001b[43mmodel\u001b[49m\u001b[43m,\u001b[49m\u001b[43m \u001b[49m\u001b[43mdataloaders\u001b[49m\u001b[43m,\u001b[49m\u001b[43m \u001b[49m\u001b[43mcriterion\u001b[49m\u001b[43m,\u001b[49m\u001b[43m \u001b[49m\u001b[43moptimizer\u001b[49m\u001b[43m)\u001b[49m\n\u001b[1;32m     46\u001b[0m \u001b[38;5;66;03m# Plot metrics and save model summary\u001b[39;00m\n\u001b[1;32m     47\u001b[0m plot_metrics(metrics, \u001b[38;5;124m\"\u001b[39m\u001b[38;5;124mplots/maml\u001b[39m\u001b[38;5;124m\"\u001b[39m)\n",
      "Cell \u001b[0;32mIn[101], line 88\u001b[0m, in \u001b[0;36mtrain_model_with_metrics\u001b[0;34m(model, dataloaders, criterion, optimizer, num_epochs, patience, model_save_dir, plot_dir)\u001b[0m\n\u001b[1;32m     85\u001b[0m         \u001b[38;5;28;01mbreak\u001b[39;00m\n\u001b[1;32m     87\u001b[0m \u001b[38;5;66;03m# Generate classification report\u001b[39;00m\n\u001b[0;32m---> 88\u001b[0m report \u001b[38;5;241m=\u001b[39m \u001b[43mclassification_report\u001b[49m\u001b[43m(\u001b[49m\u001b[43mall_labels\u001b[49m\u001b[43m,\u001b[49m\u001b[43m \u001b[49m\u001b[43mepoch_preds\u001b[49m\u001b[43m,\u001b[49m\u001b[43m \u001b[49m\u001b[43moutput_dict\u001b[49m\u001b[38;5;241;43m=\u001b[39;49m\u001b[38;5;28;43;01mTrue\u001b[39;49;00m\u001b[43m)\u001b[49m\n\u001b[1;32m     89\u001b[0m report_path \u001b[38;5;241m=\u001b[39m os\u001b[38;5;241m.\u001b[39mpath\u001b[38;5;241m.\u001b[39mjoin(plot_dir, \u001b[38;5;124m\"\u001b[39m\u001b[38;5;124mclassification_report.json\u001b[39m\u001b[38;5;124m\"\u001b[39m)\n\u001b[1;32m     90\u001b[0m \u001b[38;5;28;01mwith\u001b[39;00m \u001b[38;5;28mopen\u001b[39m(report_path, \u001b[38;5;124m\"\u001b[39m\u001b[38;5;124mw\u001b[39m\u001b[38;5;124m\"\u001b[39m) \u001b[38;5;28;01mas\u001b[39;00m f:\n",
      "File \u001b[0;32m/mnt/c/Users/jayant-few-shot/Few_shot/new-sounds/neural-networks-and-results/venv/lib/python3.12/site-packages/sklearn/utils/_param_validation.py:216\u001b[0m, in \u001b[0;36mvalidate_params.<locals>.decorator.<locals>.wrapper\u001b[0;34m(*args, **kwargs)\u001b[0m\n\u001b[1;32m    210\u001b[0m \u001b[38;5;28;01mtry\u001b[39;00m:\n\u001b[1;32m    211\u001b[0m     \u001b[38;5;28;01mwith\u001b[39;00m config_context(\n\u001b[1;32m    212\u001b[0m         skip_parameter_validation\u001b[38;5;241m=\u001b[39m(\n\u001b[1;32m    213\u001b[0m             prefer_skip_nested_validation \u001b[38;5;129;01mor\u001b[39;00m global_skip_validation\n\u001b[1;32m    214\u001b[0m         )\n\u001b[1;32m    215\u001b[0m     ):\n\u001b[0;32m--> 216\u001b[0m         \u001b[38;5;28;01mreturn\u001b[39;00m \u001b[43mfunc\u001b[49m\u001b[43m(\u001b[49m\u001b[38;5;241;43m*\u001b[39;49m\u001b[43margs\u001b[49m\u001b[43m,\u001b[49m\u001b[43m \u001b[49m\u001b[38;5;241;43m*\u001b[39;49m\u001b[38;5;241;43m*\u001b[39;49m\u001b[43mkwargs\u001b[49m\u001b[43m)\u001b[49m\n\u001b[1;32m    217\u001b[0m \u001b[38;5;28;01mexcept\u001b[39;00m InvalidParameterError \u001b[38;5;28;01mas\u001b[39;00m e:\n\u001b[1;32m    218\u001b[0m     \u001b[38;5;66;03m# When the function is just a wrapper around an estimator, we allow\u001b[39;00m\n\u001b[1;32m    219\u001b[0m     \u001b[38;5;66;03m# the function to delegate validation to the estimator, but we replace\u001b[39;00m\n\u001b[1;32m    220\u001b[0m     \u001b[38;5;66;03m# the name of the estimator by the name of the function in the error\u001b[39;00m\n\u001b[1;32m    221\u001b[0m     \u001b[38;5;66;03m# message to avoid confusion.\u001b[39;00m\n\u001b[1;32m    222\u001b[0m     msg \u001b[38;5;241m=\u001b[39m re\u001b[38;5;241m.\u001b[39msub(\n\u001b[1;32m    223\u001b[0m         \u001b[38;5;124mr\u001b[39m\u001b[38;5;124m\"\u001b[39m\u001b[38;5;124mparameter of \u001b[39m\u001b[38;5;124m\\\u001b[39m\u001b[38;5;124mw+ must be\u001b[39m\u001b[38;5;124m\"\u001b[39m,\n\u001b[1;32m    224\u001b[0m         \u001b[38;5;124mf\u001b[39m\u001b[38;5;124m\"\u001b[39m\u001b[38;5;124mparameter of \u001b[39m\u001b[38;5;132;01m{\u001b[39;00mfunc\u001b[38;5;241m.\u001b[39m\u001b[38;5;18m__qualname__\u001b[39m\u001b[38;5;132;01m}\u001b[39;00m\u001b[38;5;124m must be\u001b[39m\u001b[38;5;124m\"\u001b[39m,\n\u001b[1;32m    225\u001b[0m         \u001b[38;5;28mstr\u001b[39m(e),\n\u001b[1;32m    226\u001b[0m     )\n",
      "File \u001b[0;32m/mnt/c/Users/jayant-few-shot/Few_shot/new-sounds/neural-networks-and-results/venv/lib/python3.12/site-packages/sklearn/metrics/_classification.py:2671\u001b[0m, in \u001b[0;36mclassification_report\u001b[0;34m(y_true, y_pred, labels, target_names, sample_weight, digits, output_dict, zero_division)\u001b[0m\n\u001b[1;32m   2563\u001b[0m \u001b[38;5;250m\u001b[39m\u001b[38;5;124;03m\"\"\"Build a text report showing the main classification metrics.\u001b[39;00m\n\u001b[1;32m   2564\u001b[0m \n\u001b[1;32m   2565\u001b[0m \u001b[38;5;124;03mRead more in the :ref:`User Guide <classification_report>`.\u001b[39;00m\n\u001b[0;32m   (...)\u001b[0m\n\u001b[1;32m   2667\u001b[0m \u001b[38;5;124;03m<BLANKLINE>\u001b[39;00m\n\u001b[1;32m   2668\u001b[0m \u001b[38;5;124;03m\"\"\"\u001b[39;00m\n\u001b[1;32m   2670\u001b[0m y_true, y_pred \u001b[38;5;241m=\u001b[39m attach_unique(y_true, y_pred)\n\u001b[0;32m-> 2671\u001b[0m y_type, y_true, y_pred \u001b[38;5;241m=\u001b[39m \u001b[43m_check_targets\u001b[49m\u001b[43m(\u001b[49m\u001b[43my_true\u001b[49m\u001b[43m,\u001b[49m\u001b[43m \u001b[49m\u001b[43my_pred\u001b[49m\u001b[43m)\u001b[49m\n\u001b[1;32m   2673\u001b[0m \u001b[38;5;28;01mif\u001b[39;00m labels \u001b[38;5;129;01mis\u001b[39;00m \u001b[38;5;28;01mNone\u001b[39;00m:\n\u001b[1;32m   2674\u001b[0m     labels \u001b[38;5;241m=\u001b[39m unique_labels(y_true, y_pred)\n",
      "File \u001b[0;32m/mnt/c/Users/jayant-few-shot/Few_shot/new-sounds/neural-networks-and-results/venv/lib/python3.12/site-packages/sklearn/metrics/_classification.py:98\u001b[0m, in \u001b[0;36m_check_targets\u001b[0;34m(y_true, y_pred)\u001b[0m\n\u001b[1;32m     71\u001b[0m \u001b[38;5;250m\u001b[39m\u001b[38;5;124;03m\"\"\"Check that y_true and y_pred belong to the same classification task.\u001b[39;00m\n\u001b[1;32m     72\u001b[0m \n\u001b[1;32m     73\u001b[0m \u001b[38;5;124;03mThis converts multiclass or binary types to a common shape, and raises a\u001b[39;00m\n\u001b[0;32m   (...)\u001b[0m\n\u001b[1;32m     95\u001b[0m \u001b[38;5;124;03my_pred : array or indicator matrix\u001b[39;00m\n\u001b[1;32m     96\u001b[0m \u001b[38;5;124;03m\"\"\"\u001b[39;00m\n\u001b[1;32m     97\u001b[0m xp, _ \u001b[38;5;241m=\u001b[39m get_namespace(y_true, y_pred)\n\u001b[0;32m---> 98\u001b[0m \u001b[43mcheck_consistent_length\u001b[49m\u001b[43m(\u001b[49m\u001b[43my_true\u001b[49m\u001b[43m,\u001b[49m\u001b[43m \u001b[49m\u001b[43my_pred\u001b[49m\u001b[43m)\u001b[49m\n\u001b[1;32m     99\u001b[0m type_true \u001b[38;5;241m=\u001b[39m type_of_target(y_true, input_name\u001b[38;5;241m=\u001b[39m\u001b[38;5;124m\"\u001b[39m\u001b[38;5;124my_true\u001b[39m\u001b[38;5;124m\"\u001b[39m)\n\u001b[1;32m    100\u001b[0m type_pred \u001b[38;5;241m=\u001b[39m type_of_target(y_pred, input_name\u001b[38;5;241m=\u001b[39m\u001b[38;5;124m\"\u001b[39m\u001b[38;5;124my_pred\u001b[39m\u001b[38;5;124m\"\u001b[39m)\n",
      "File \u001b[0;32m/mnt/c/Users/jayant-few-shot/Few_shot/new-sounds/neural-networks-and-results/venv/lib/python3.12/site-packages/sklearn/utils/validation.py:475\u001b[0m, in \u001b[0;36mcheck_consistent_length\u001b[0;34m(*arrays)\u001b[0m\n\u001b[1;32m    473\u001b[0m uniques \u001b[38;5;241m=\u001b[39m np\u001b[38;5;241m.\u001b[39munique(lengths)\n\u001b[1;32m    474\u001b[0m \u001b[38;5;28;01mif\u001b[39;00m \u001b[38;5;28mlen\u001b[39m(uniques) \u001b[38;5;241m>\u001b[39m \u001b[38;5;241m1\u001b[39m:\n\u001b[0;32m--> 475\u001b[0m     \u001b[38;5;28;01mraise\u001b[39;00m \u001b[38;5;167;01mValueError\u001b[39;00m(\n\u001b[1;32m    476\u001b[0m         \u001b[38;5;124m\"\u001b[39m\u001b[38;5;124mFound input variables with inconsistent numbers of samples: \u001b[39m\u001b[38;5;132;01m%r\u001b[39;00m\u001b[38;5;124m\"\u001b[39m\n\u001b[1;32m    477\u001b[0m         \u001b[38;5;241m%\u001b[39m [\u001b[38;5;28mint\u001b[39m(l) \u001b[38;5;28;01mfor\u001b[39;00m l \u001b[38;5;129;01min\u001b[39;00m lengths]\n\u001b[1;32m    478\u001b[0m     )\n",
      "\u001b[0;31mValueError\u001b[0m: Found input variables with inconsistent numbers of samples: [2576976, 34824]"
     ]
    }
   ],
   "source": [
    "if __name__ == \"__main__\":\n",
    "    root_dir = \"project/data/spectrograms\"\n",
    "    batch_size = 32\n",
    "    val_split = 0.2\n",
    "\n",
    "    transform = transforms.Compose([\n",
    "        transforms.Resize((128, 128)),\n",
    "        transforms.ToTensor()\n",
    "    ])\n",
    "\n",
    "    # Create dataloaders for the entire dataset\n",
    "    dataloaders = create_full_dataloaders(root_dir, transform=transform, batch_size=batch_size, val_split=val_split)\n",
    "\n",
    "    # Define model, criterion, and optimizer\n",
    "    num_classes = len(SpectrogramDataset(root_dir).class_to_idx)\n",
    "    class SimpleCNN(torch.nn.Module):\n",
    "        def __init__(self, num_classes):\n",
    "            super(SimpleCNN, self).__init__()\n",
    "            self.conv_layers = torch.nn.Sequential(\n",
    "                torch.nn.Conv2d(3, 16, kernel_size=3, stride=1, padding=1),\n",
    "                torch.nn.ReLU(),\n",
    "                torch.nn.MaxPool2d(kernel_size=2, stride=2),\n",
    "                torch.nn.Conv2d(16, 32, kernel_size=3, stride=1, padding=1),\n",
    "                torch.nn.ReLU(),\n",
    "                torch.nn.MaxPool2d(kernel_size=2, stride=2),\n",
    "            )\n",
    "            self.fc_layers = torch.nn.Sequential(\n",
    "                torch.nn.Linear(32 * 32 * 32, 128),\n",
    "                torch.nn.ReLU(),\n",
    "                torch.nn.Linear(128, num_classes),\n",
    "            )\n",
    "\n",
    "        def forward(self, x):\n",
    "            x = self.conv_layers(x)\n",
    "            x = x.view(x.size(0), -1)  # Flatten\n",
    "            x = self.fc_layers(x)\n",
    "            return x\n",
    "\n",
    "    model = SimpleCNN(num_classes=num_classes).to(device)\n",
    "    criterion = torch.nn.CrossEntropyLoss()\n",
    "    optimizer = torch.optim.Adam(model.parameters(), lr=1e-3)\n",
    "\n",
    "    # Train the model\n",
    "    metrics, report = train_model_with_metrics(model, dataloaders, criterion, optimizer)\n",
    "\n",
    "    # Plot metrics and save model summary\n",
    "    plot_metrics(metrics, \"plots/maml\")\n",
    "    save_model_summary(model, (3, 128, 128), \"plots/maml\")"
   ]
  },
  {
   "cell_type": "code",
   "execution_count": null,
   "metadata": {},
   "outputs": [
    {
     "ename": "SyntaxError",
     "evalue": "unterminated string literal (detected at line 1) (981200306.py, line 1)",
     "output_type": "error",
     "traceback": [
      "\u001b[0;36m  Cell \u001b[0;32mIn[1], line 1\u001b[0;36m\u001b[0m\n\u001b[0;31m    ASDH\"\u001b[0m\n\u001b[0m        ^\u001b[0m\n\u001b[0;31mSyntaxError\u001b[0m\u001b[0;31m:\u001b[0m unterminated string literal (detected at line 1)\n"
     ]
    }
   ],
   "source": []
  },
  {
   "cell_type": "code",
   "execution_count": null,
   "metadata": {},
   "outputs": [],
   "source": []
  }
 ],
 "metadata": {
  "kernelspec": {
   "display_name": "venv",
   "language": "python",
   "name": "python3"
  },
  "language_info": {
   "codemirror_mode": {
    "name": "ipython",
    "version": 3
   },
   "file_extension": ".py",
   "mimetype": "text/x-python",
   "name": "python",
   "nbconvert_exporter": "python",
   "pygments_lexer": "ipython3",
   "version": "3.12.3"
  }
 },
 "nbformat": 4,
 "nbformat_minor": 2
}
